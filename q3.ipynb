{
 "cells": [
  {
   "cell_type": "code",
   "execution_count": 1,
   "metadata": {
    "collapsed": true
   },
   "outputs": [],
   "source": [
    "import getpass\n",
    "import sys\n",
    "import time\n",
    "\n",
    "import numpy as np\n",
    "from copy import deepcopy\n",
    "\n",
    "from utils import calculate_perplexity, get_ptb_dataset, Vocab\n",
    "from utils import ptb_iterator, sample\n",
    "\n",
    "import tensorflow as tf\n",
    "from tensorflow.python.ops.seq2seq import sequence_loss\n",
    "from model import LanguageModel"
   ]
  },
  {
   "cell_type": "code",
   "execution_count": 2,
   "metadata": {
    "collapsed": true
   },
   "outputs": [],
   "source": [
    "class Config(object):\n",
    "  \"\"\"Holds model hyperparams and data information.\n",
    "\n",
    "  The config class is used to store various hyperparameters and dataset\n",
    "  information parameters. Model objects are passed a Config() object at\n",
    "  instantiation.\n",
    "  \"\"\"\n",
    "  batch_size = 64\n",
    "  embed_size = 50\n",
    "  hidden_size = 100\n",
    "  num_steps = 10\n",
    "  max_epochs = 16\n",
    "  early_stopping = 2\n",
    "  dropout = 0.9\n",
    "  lr = 0.001"
   ]
  },
  {
   "cell_type": "code",
   "execution_count": 3,
   "metadata": {
    "collapsed": true
   },
   "outputs": [],
   "source": [
    "config = Config()"
   ]
  },
  {
   "cell_type": "code",
   "execution_count": 5,
   "metadata": {
    "collapsed": true
   },
   "outputs": [],
   "source": [
    "vocab = Vocab()"
   ]
  },
  {
   "cell_type": "code",
   "execution_count": 6,
   "metadata": {
    "collapsed": false
   },
   "outputs": [
    {
     "name": "stdout",
     "output_type": "stream",
     "text": [
      "929589.0 total words with 10000 uniques\n"
     ]
    }
   ],
   "source": [
    "vocab.construct(get_ptb_dataset('train'))"
   ]
  },
  {
   "cell_type": "code",
   "execution_count": 10,
   "metadata": {
    "collapsed": false
   },
   "outputs": [],
   "source": [
    "encoded_train = np.array([vocab.encode(word) for word in get_ptb_dataset('train')], dtype=np.int32)\n",
    "encoded_valid = np.array([vocab.encode(word) for word in get_ptb_dataset('valid')], dtype=np.int32)\n",
    "encoded_test  = np.array([vocab.encode(word) for word in get_ptb_dataset('test')], dtype=np.int32)"
   ]
  },
  {
   "cell_type": "code",
   "execution_count": 14,
   "metadata": {
    "collapsed": false
   },
   "outputs": [
    {
     "data": {
      "text/plain": [
       "82430"
      ]
     },
     "execution_count": 14,
     "metadata": {},
     "output_type": "execute_result"
    }
   ],
   "source": [
    "len(encoded_test)"
   ]
  },
  {
   "cell_type": "markdown",
   "metadata": {},
   "source": [
    "## Placeholders"
   ]
  },
  {
   "cell_type": "code",
   "execution_count": 16,
   "metadata": {
    "collapsed": true
   },
   "outputs": [],
   "source": [
    "input_placeholder   = tf.placeholder(tf.int32, [None, config.num_steps], name=\"input_placeholder\")\n",
    "labels_placeholder  = tf.placeholder(tf.int32, [None, config.num_steps], name=\"labels_placeholder\")\n",
    "dropout_placeholder = tf.placeholder(tf.float32, [], name=\"dropout_placeholder\")"
   ]
  },
  {
   "cell_type": "markdown",
   "metadata": {},
   "source": [
    "## Embeddings"
   ]
  },
  {
   "cell_type": "code",
   "execution_count": 18,
   "metadata": {
    "collapsed": true
   },
   "outputs": [],
   "source": [
    "L = tf.Variable(tf.random_uniform([len(vocab), config.embed_size], -1, 1), name=\"L\")"
   ]
  },
  {
   "cell_type": "code",
   "execution_count": 20,
   "metadata": {
    "collapsed": false
   },
   "outputs": [
    {
     "name": "stdout",
     "output_type": "stream",
     "text": [
      "Tensor(\"L/read:0\", shape=(10000, 50), dtype=float32)\n"
     ]
    }
   ],
   "source": [
    "print(L)"
   ]
  },
  {
   "cell_type": "code",
   "execution_count": 22,
   "metadata": {
    "collapsed": false
   },
   "outputs": [],
   "source": [
    "embeds = tf.nn.embedding_lookup(L, input_placeholder)"
   ]
  },
  {
   "cell_type": "code",
   "execution_count": 23,
   "metadata": {
    "collapsed": false
   },
   "outputs": [
    {
     "data": {
      "text/plain": [
       "<tf.Tensor 'embedding_lookup_1:0' shape=(?, 10, 50) dtype=float32>"
      ]
     },
     "execution_count": 23,
     "metadata": {},
     "output_type": "execute_result"
    }
   ],
   "source": [
    "embeds"
   ]
  },
  {
   "cell_type": "code",
   "execution_count": 25,
   "metadata": {
    "collapsed": false
   },
   "outputs": [
    {
     "data": {
      "text/plain": [
       "[<tf.Tensor 'split:0' shape=(?, 1, 50) dtype=float32>,\n",
       " <tf.Tensor 'split:1' shape=(?, 1, 50) dtype=float32>,\n",
       " <tf.Tensor 'split:2' shape=(?, 1, 50) dtype=float32>,\n",
       " <tf.Tensor 'split:3' shape=(?, 1, 50) dtype=float32>,\n",
       " <tf.Tensor 'split:4' shape=(?, 1, 50) dtype=float32>,\n",
       " <tf.Tensor 'split:5' shape=(?, 1, 50) dtype=float32>,\n",
       " <tf.Tensor 'split:6' shape=(?, 1, 50) dtype=float32>,\n",
       " <tf.Tensor 'split:7' shape=(?, 1, 50) dtype=float32>,\n",
       " <tf.Tensor 'split:8' shape=(?, 1, 50) dtype=float32>,\n",
       " <tf.Tensor 'split:9' shape=(?, 1, 50) dtype=float32>]"
      ]
     },
     "execution_count": 25,
     "metadata": {},
     "output_type": "execute_result"
    }
   ],
   "source": [
    "tf.split(split_dim=1, num_split=config.num_steps, value=embeds)"
   ]
  },
  {
   "cell_type": "code",
   "execution_count": 27,
   "metadata": {
    "collapsed": false
   },
   "outputs": [],
   "source": [
    "inputs = tf.unpack(embeds, axis=1)"
   ]
  },
  {
   "cell_type": "code",
   "execution_count": 28,
   "metadata": {
    "collapsed": false
   },
   "outputs": [
    {
     "data": {
      "text/plain": [
       "[<tf.Tensor 'unpack_1:0' shape=(?, 50) dtype=float32>,\n",
       " <tf.Tensor 'unpack_1:1' shape=(?, 50) dtype=float32>,\n",
       " <tf.Tensor 'unpack_1:2' shape=(?, 50) dtype=float32>,\n",
       " <tf.Tensor 'unpack_1:3' shape=(?, 50) dtype=float32>,\n",
       " <tf.Tensor 'unpack_1:4' shape=(?, 50) dtype=float32>,\n",
       " <tf.Tensor 'unpack_1:5' shape=(?, 50) dtype=float32>,\n",
       " <tf.Tensor 'unpack_1:6' shape=(?, 50) dtype=float32>,\n",
       " <tf.Tensor 'unpack_1:7' shape=(?, 50) dtype=float32>,\n",
       " <tf.Tensor 'unpack_1:8' shape=(?, 50) dtype=float32>,\n",
       " <tf.Tensor 'unpack_1:9' shape=(?, 50) dtype=float32>]"
      ]
     },
     "execution_count": 28,
     "metadata": {},
     "output_type": "execute_result"
    }
   ],
   "source": [
    "inputs"
   ]
  },
  {
   "cell_type": "markdown",
   "metadata": {},
   "source": [
    "## Model"
   ]
  },
  {
   "cell_type": "code",
   "execution_count": 29,
   "metadata": {
    "collapsed": true
   },
   "outputs": [],
   "source": [
    "initial_state = tf.Variable(tf.zeros([config.batch_size, config.hidden_size]), name=\"initial_state\")"
   ]
  },
  {
   "cell_type": "code",
   "execution_count": 52,
   "metadata": {
    "collapsed": false
   },
   "outputs": [],
   "source": [
    "with tf.variable_scope(\"RNNffebraze\") as scope:\n",
    "    H  = tf.get_variable(\"H\", initializer=tf.random_uniform([config.hidden_size, config.hidden_size], -1, 1))\n",
    "    I  = tf.get_variable(\"I\", initializer=tf.random_uniform([config.embed_size, config.hidden_size], -1, 1))\n",
    "    b1 = tf.get_variable(\"b1\", initializer=tf.zeros([config.hidden_size]))\n",
    "    hidden = tf.nn.sigmoid(tf.matmul(initial_state, H) + tf.matmul(inputs[0], I) + b1)\n",
    "    rnn_outputs = [hidden]\n",
    "    for input in inputs[1:]:\n",
    "        scope.reuse_variables()\n",
    "        hidden = tf.nn.sigmoid(tf.matmul(hidden, H) + tf.matmul(input, I) + b1)\n",
    "        rnn_outputs.append(hidden)"
   ]
  },
  {
   "cell_type": "code",
   "execution_count": 53,
   "metadata": {
    "collapsed": false
   },
   "outputs": [
    {
     "data": {
      "text/plain": [
       "<tf.Tensor 'RNNffebraze/Sigmoid_9:0' shape=(64, 100) dtype=float32>"
      ]
     },
     "execution_count": 53,
     "metadata": {},
     "output_type": "execute_result"
    }
   ],
   "source": [
    "hidden"
   ]
  },
  {
   "cell_type": "code",
   "execution_count": 54,
   "metadata": {
    "collapsed": false
   },
   "outputs": [
    {
     "data": {
      "text/plain": [
       "[<tf.Tensor 'RNNffebraze/Sigmoid:0' shape=(64, 100) dtype=float32>,\n",
       " <tf.Tensor 'RNNffebraze/Sigmoid_1:0' shape=(64, 100) dtype=float32>,\n",
       " <tf.Tensor 'RNNffebraze/Sigmoid_2:0' shape=(64, 100) dtype=float32>,\n",
       " <tf.Tensor 'RNNffebraze/Sigmoid_3:0' shape=(64, 100) dtype=float32>,\n",
       " <tf.Tensor 'RNNffebraze/Sigmoid_4:0' shape=(64, 100) dtype=float32>,\n",
       " <tf.Tensor 'RNNffebraze/Sigmoid_5:0' shape=(64, 100) dtype=float32>,\n",
       " <tf.Tensor 'RNNffebraze/Sigmoid_6:0' shape=(64, 100) dtype=float32>,\n",
       " <tf.Tensor 'RNNffebraze/Sigmoid_7:0' shape=(64, 100) dtype=float32>,\n",
       " <tf.Tensor 'RNNffebraze/Sigmoid_8:0' shape=(64, 100) dtype=float32>,\n",
       " <tf.Tensor 'RNNffebraze/Sigmoid_9:0' shape=(64, 100) dtype=float32>]"
      ]
     },
     "execution_count": 54,
     "metadata": {},
     "output_type": "execute_result"
    }
   ],
   "source": [
    "rnn_outputs"
   ]
  },
  {
   "cell_type": "code",
   "execution_count": null,
   "metadata": {
    "collapsed": true
   },
   "outputs": [],
   "source": [
    "tf.global_variables_initializer"
   ]
  }
 ],
 "metadata": {
  "anaconda-cloud": {},
  "kernelspec": {
   "display_name": "Python [conda env:stanford]",
   "language": "python",
   "name": "conda-env-stanford-py"
  },
  "language_info": {
   "codemirror_mode": {
    "name": "ipython",
    "version": 2
   },
   "file_extension": ".py",
   "mimetype": "text/x-python",
   "name": "python",
   "nbconvert_exporter": "python",
   "pygments_lexer": "ipython2",
   "version": "2.7.12"
  }
 },
 "nbformat": 4,
 "nbformat_minor": 1
}
